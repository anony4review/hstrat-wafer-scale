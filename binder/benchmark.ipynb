{
 "cells": [
  {
   "cell_type": "code",
   "execution_count": null,
   "metadata": {},
   "outputs": [],
   "source": [
    "import logging\n",
    "import random\n",
    "\n",
    "from backstrip import backplot\n",
    "from nbmetalog import nbmetalog as nbm\n",
    "import pandas as pd\n",
    "import pecking\n",
    "from teeplot import teeplot as tp\n",
    "\n",
    "random.seed(1)\n",
    "\n",
    "logging.basicConfig(\n",
    "    format=\"[%(funcName)s:%(lineno)d] %(message)s\",\n",
    ")\n",
    "logger = logging.getLogger()\n"
   ]
  },
  {
   "cell_type": "code",
   "execution_count": null,
   "metadata": {},
   "outputs": [],
   "source": [
    "nbm.print_metadata()\n"
   ]
  },
  {
   "cell_type": "markdown",
   "metadata": {},
   "source": [
    "## Get Data\n"
   ]
  },
  {
   "cell_type": "code",
   "execution_count": null,
   "metadata": {},
   "outputs": [],
   "source": [
    "df = pd.concat(\n",
    "    [\n",
    "        pd.read_csv(\"https://osf.io/n4xyp/download\"),\n",
    "        pd.read_csv(\"https://osf.io/egjxr/download\"),\n",
    "    ],\n",
    "    ignore_index=True,\n",
    ")\n"
   ]
  },
  {
   "cell_type": "code",
   "execution_count": null,
   "metadata": {},
   "outputs": [],
   "source": [
    "df[\"Nanoseconds per Op\"] = df[\"Nanoseconds\"] / df[\"Num Operations\"]\n"
   ]
  },
  {
   "cell_type": "code",
   "execution_count": null,
   "metadata": {},
   "outputs": [],
   "source": [
    "def divide_by_subset_mean(group):\n",
    "    group[\"Trivial Ratio\"] = (\n",
    "        group[\"Nanoseconds\"]\n",
    "        / group[\n",
    "            (group[\"Policy\"] == \"trivial\")\n",
    "            & (group[\"Implementation\"] == \"surface\")\n",
    "        ][\"Nanoseconds\"].mean()\n",
    "    )\n",
    "    return group\n",
    "\n",
    "\n",
    "result = (\n",
    "    df.groupby([\"Language\"], group_keys=True)\n",
    "    .apply(divide_by_subset_mean)\n",
    "    .reset_index(drop=True)\n",
    ")\n",
    "result.groupby([\"Language\", \"Implementation\", \"Policy\"])[\"Trivial Ratio\"].agg(\n",
    "    [\"mean\", \"sem\"]\n",
    ")\n"
   ]
  },
  {
   "cell_type": "markdown",
   "metadata": {},
   "source": [
    "## Visualize Results\n"
   ]
  },
  {
   "cell_type": "code",
   "execution_count": null,
   "metadata": {},
   "outputs": [],
   "source": [
    "tp.tee(\n",
    "    pecking.peckplot,\n",
    "    data=df[\n",
    "        df[\"Policy\"].isin(\n",
    "            [\"steady\", \"tilted\", \"trivial\"],\n",
    "        )\n",
    "    ],\n",
    "    y=\"Policy\",\n",
    "    x=\"Nanoseconds per Op\",\n",
    "    hue=\"Implementation\",\n",
    "    score=\"Nanoseconds per Op\",\n",
    "    row=\"Language\",\n",
    "    y_group=\"outer\",\n",
    "    sharey=False,\n",
    "    orient=\"h\",\n",
    "    aspect=5,\n",
    "    height=2,\n",
    "    margin_titles=True,\n",
    "    skimmers=[pecking.skim_lowest],\n",
    "    skim_labels=[\"faster\"],\n",
    "    skim_hatches=[\"*\"],\n",
    "    log_scale=(True, False),\n",
    "    teeplot_outattrs={\n",
    "        \"all\": \"false\",\n",
    "    },\n",
    "    teeplot_postprocess=\"plt.subplots_adjust(right=0.8); teed.axes.flat[1].set_ylim(2.5, 1);\",\n",
    ")\n"
   ]
  }
 ],
 "metadata": {
  "kernelspec": {
   "display_name": "Python 3",
   "language": "python",
   "name": "python3"
  },
  "language_info": {
   "codemirror_mode": {
    "name": "ipython",
    "version": 3
   },
   "file_extension": ".py",
   "mimetype": "text/x-python",
   "name": "python",
   "nbconvert_exporter": "python",
   "pygments_lexer": "ipython3"
  }
 },
 "nbformat": 4,
 "nbformat_minor": 2
}
